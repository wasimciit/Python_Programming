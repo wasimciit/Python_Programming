{
 "cells": [
  {
   "cell_type": "markdown",
   "id": "4f71dc07",
   "metadata": {},
   "source": [
    "## Student Performance"
   ]
  },
  {
   "cell_type": "markdown",
   "id": "27abc248",
   "metadata": {},
   "source": [
    "### 1) Problem statement\n",
    "- This project understands how the student's performance (test scores) is affected by other variables such as Gender, Ethnicity, Parental level of education, Lunch and Test preparation course.\n",
    "\n",
    "\n",
    "### 2) Data Collection\n",
    "- Dataset Source - https://www.kaggle.com/datasets/spscientist/students-performance-in-exams?datasetId=74977\n",
    "- The data consists of 8 column and 1000 rows."
   ]
  },
  {
   "cell_type": "code",
   "execution_count": 1,
   "id": "0c67a8e8",
   "metadata": {},
   "outputs": [],
   "source": [
    "# import libraries \n",
    "import pandas as pd\n",
    "import numpy as np\n",
    "import matplotlib.pyplot as plt\n",
    "import seaborn as sns"
   ]
  },
  {
   "cell_type": "code",
   "execution_count": 2,
   "id": "2f673964",
   "metadata": {},
   "outputs": [],
   "source": [
    "# upload dataset\n",
    "df=pd.read_csv('std.csv')"
   ]
  },
  {
   "cell_type": "code",
   "execution_count": null,
   "id": "ac78d8b1",
   "metadata": {},
   "outputs": [],
   "source": [
    "# head of the dataset"
   ]
  },
  {
   "cell_type": "code",
   "execution_count": null,
   "id": "ee88c5ae",
   "metadata": {},
   "outputs": [],
   "source": [
    "# tail of the dataset"
   ]
  },
  {
   "cell_type": "code",
   "execution_count": null,
   "id": "73a217b7",
   "metadata": {},
   "outputs": [],
   "source": [
    "# shape of the dataset"
   ]
  },
  {
   "cell_type": "code",
   "execution_count": null,
   "id": "42899700",
   "metadata": {},
   "outputs": [],
   "source": [
    "# size of the dataset"
   ]
  },
  {
   "cell_type": "code",
   "execution_count": null,
   "id": "b75767ef",
   "metadata": {},
   "outputs": [],
   "source": [
    "# variables in the dataset"
   ]
  },
  {
   "cell_type": "code",
   "execution_count": null,
   "id": "202e77c1",
   "metadata": {},
   "outputs": [],
   "source": [
    "# check the data types"
   ]
  },
  {
   "cell_type": "code",
   "execution_count": null,
   "id": "793b070a",
   "metadata": {},
   "outputs": [],
   "source": [
    "# information about the dataset"
   ]
  },
  {
   "cell_type": "code",
   "execution_count": null,
   "id": "6c5105a3",
   "metadata": {},
   "outputs": [],
   "source": [
    "# description of the numerical variables"
   ]
  },
  {
   "cell_type": "code",
   "execution_count": null,
   "id": "bdda482f",
   "metadata": {},
   "outputs": [],
   "source": [
    "# description of the qualitative variables"
   ]
  },
  {
   "cell_type": "code",
   "execution_count": null,
   "id": "cfc16188",
   "metadata": {},
   "outputs": [],
   "source": [
    "# check the duplication in the dataset"
   ]
  },
  {
   "cell_type": "code",
   "execution_count": null,
   "id": "2c04c768",
   "metadata": {},
   "outputs": [],
   "source": [
    "# check the missing values in the dataset"
   ]
  },
  {
   "cell_type": "code",
   "execution_count": null,
   "id": "86c73205",
   "metadata": {},
   "outputs": [],
   "source": [
    "# What is the average performance of students across math, reading, and writing?\n"
   ]
  },
  {
   "cell_type": "code",
   "execution_count": null,
   "id": "a4b8ef71",
   "metadata": {},
   "outputs": [],
   "source": [
    "# Which subject has the highest average score?\n"
   ]
  },
  {
   "cell_type": "code",
   "execution_count": null,
   "id": "00d4a5d1",
   "metadata": {},
   "outputs": [],
   "source": [
    "# What is the distribution of scores in each subject?"
   ]
  },
  {
   "cell_type": "code",
   "execution_count": null,
   "id": "bd3383d4",
   "metadata": {},
   "outputs": [],
   "source": [
    "# Are there students who consistently perform high or low in all three subjects?\n"
   ]
  },
  {
   "cell_type": "code",
   "execution_count": null,
   "id": "b0888b20",
   "metadata": {},
   "outputs": [],
   "source": [
    "# Do male or female students perform better overall?"
   ]
  },
  {
   "cell_type": "code",
   "execution_count": null,
   "id": "6962eddd",
   "metadata": {},
   "outputs": [],
   "source": [
    "# Is there a significant difference in math scores between genders?"
   ]
  },
  {
   "cell_type": "code",
   "execution_count": null,
   "id": "8d34ddb3",
   "metadata": {},
   "outputs": [],
   "source": [
    "# How do reading and writing scores differ between male and female students?"
   ]
  }
 ],
 "metadata": {
  "kernelspec": {
   "display_name": "my_env",
   "language": "python",
   "name": "python3"
  },
  "language_info": {
   "codemirror_mode": {
    "name": "ipython",
    "version": 3
   },
   "file_extension": ".py",
   "mimetype": "text/x-python",
   "name": "python",
   "nbconvert_exporter": "python",
   "pygments_lexer": "ipython3",
   "version": "3.11.4"
  }
 },
 "nbformat": 4,
 "nbformat_minor": 5
}
