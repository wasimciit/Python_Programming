{
 "cells": [
  {
   "cell_type": "code",
   "execution_count": 1,
   "id": "d8867118",
   "metadata": {},
   "outputs": [],
   "source": [
    "from statistics import mean, median, mode\n"
   ]
  },
  {
   "cell_type": "code",
   "execution_count": 2,
   "id": "61263cbc",
   "metadata": {},
   "outputs": [],
   "source": [
    "ages=[10,20,30,40,50,60,70,80,90,100]\n",
    "# Calculate the mean\n",
    "mean_age = mean(ages)\n",
    "# Calculate the median\n",
    "median_age = median(ages)\n",
    "# Calculate the mode\n",
    "mode_age = mode(ages)"
   ]
  },
  {
   "cell_type": "code",
   "execution_count": 16,
   "id": "0e131ed6",
   "metadata": {},
   "outputs": [
    {
     "name": "stdout",
     "output_type": "stream",
     "text": [
      "55\n"
     ]
    }
   ],
   "source": [
    "print(mean_age)"
   ]
  },
  {
   "cell_type": "code",
   "execution_count": 3,
   "id": "4f5c2b42",
   "metadata": {},
   "outputs": [
    {
     "data": {
      "text/plain": [
       "(55, 55.0, 10)"
      ]
     },
     "execution_count": 3,
     "metadata": {},
     "output_type": "execute_result"
    }
   ],
   "source": [
    "mean_age, median_age, mode_age"
   ]
  },
  {
   "cell_type": "code",
   "execution_count": 4,
   "id": "d048a625",
   "metadata": {},
   "outputs": [],
   "source": [
    "from statistics import * # for all functions in statistics module())"
   ]
  },
  {
   "cell_type": "code",
   "execution_count": 5,
   "id": "6d39fbad",
   "metadata": {},
   "outputs": [
    {
     "name": "stdout",
     "output_type": "stream",
     "text": [
      "30.276503540974918\n"
     ]
    }
   ],
   "source": [
    "print(stdev(ages)) # standard deviation"
   ]
  },
  {
   "cell_type": "code",
   "execution_count": 6,
   "id": "6e2a0760",
   "metadata": {},
   "outputs": [],
   "source": [
    "import math"
   ]
  },
  {
   "cell_type": "code",
   "execution_count": 8,
   "id": "35064fea",
   "metadata": {},
   "outputs": [
    {
     "name": "stdout",
     "output_type": "stream",
     "text": [
      "3.141592653589793\n",
      "4.0\n",
      "120\n",
      "8.0\n",
      "2.0\n",
      "1.0\n",
      "3\n",
      "4\n"
     ]
    }
   ],
   "source": [
    "print(math.pi) # pi\n",
    "print(math.sqrt(16)) # square root\n",
    "print(math.factorial(5)) # factorial\n",
    "print(math.pow(2, 3)) # power\n",
    "print(math.log(100, 10)) # log base 10\n",
    "print(math.sin(math.radians(90))) # sine of 90 degrees\n",
    "print(math.floor(3.7)) # floor\n",
    "print(math.ceil(3.7)) # ceiling"
   ]
  },
  {
   "cell_type": "code",
   "execution_count": 9,
   "id": "d8af71ab",
   "metadata": {},
   "outputs": [
    {
     "name": "stdout",
     "output_type": "stream",
     "text": [
      "3.141592653589793\n",
      "4.0\n",
      "120\n",
      "8.0\n",
      "2.0\n",
      "1.0\n",
      "3\n",
      "4\n"
     ]
    }
   ],
   "source": [
    "from math import pi, sqrt, factorial, pow, log, sin, radians, floor, ceil\n",
    "print(pi) # pi\n",
    "print(sqrt(16)) # square root\n",
    "print(factorial(5)) # factorial \n",
    "print(pow(2, 3)) # power    \n",
    "print(log(100, 10)) # log base 10    \n",
    "print(sin(radians(90))) # sine of 90 degrees    \n",
    "print(floor(3.7)) # floor    \n",
    "print(ceil(3.7)) # ceiling  "
   ]
  },
  {
   "cell_type": "code",
   "execution_count": 10,
   "id": "8205e5e5",
   "metadata": {},
   "outputs": [],
   "source": [
    "import string"
   ]
  },
  {
   "cell_type": "code",
   "execution_count": 11,
   "id": "806b0675",
   "metadata": {},
   "outputs": [
    {
     "name": "stdout",
     "output_type": "stream",
     "text": [
      "abcdefghijklmnopqrstuvwxyzABCDEFGHIJKLMNOPQRSTUVWXYZ\n",
      "abcdefghijklmnopqrstuvwxyz\n",
      "ABCDEFGHIJKLMNOPQRSTUVWXYZ\n",
      "0123456789\n",
      "!\"#$%&'()*+,-./:;<=>?@[\\]^_`{|}~\n",
      "0123456789abcdefghijklmnopqrstuvwxyzABCDEFGHIJKLMNOPQRSTUVWXYZ!\"#$%&'()*+,-./:;<=>?@[\\]^_`{|}~ \t\n",
      "\u000b\f\n",
      "0123456789abcdefABCDEF\n",
      "01234567\n",
      " \t\n",
      "\u000b\f\n"
     ]
    }
   ],
   "source": [
    "print(string.ascii_letters) # all letters\n",
    "print(string.ascii_lowercase) # all lowercase letters\n",
    "print(string.ascii_uppercase) # all uppercase letters\n",
    "print(string.digits) # all digits\n",
    "print(string.punctuation) # all punctuation\n",
    "print(string.printable) # all printable characters\n",
    "print(string.hexdigits) # all hexadecimal digits\n",
    "print(string.octdigits) # all octal digits\n",
    "print(string.whitespace) # all whitespace characters"
   ]
  },
  {
   "cell_type": "code",
   "execution_count": 12,
   "id": "05fa26b4",
   "metadata": {},
   "outputs": [],
   "source": [
    "import random"
   ]
  },
  {
   "cell_type": "code",
   "execution_count": 14,
   "id": "89e1b8af",
   "metadata": {},
   "outputs": [
    {
     "name": "stdout",
     "output_type": "stream",
     "text": [
      "0.1177708052716927\n"
     ]
    }
   ],
   "source": [
    "print(random.random())"
   ]
  },
  {
   "cell_type": "code",
   "execution_count": 20,
   "id": "c758985a",
   "metadata": {},
   "outputs": [
    {
     "name": "stdout",
     "output_type": "stream",
     "text": [
      "2\n"
     ]
    }
   ],
   "source": [
    "print(random.randint(1, 10)) # random integer between 1 and 10"
   ]
  },
  {
   "cell_type": "code",
   "execution_count": null,
   "id": "55140121",
   "metadata": {},
   "outputs": [],
   "source": []
  }
 ],
 "metadata": {
  "kernelspec": {
   "display_name": "my_env",
   "language": "python",
   "name": "python3"
  },
  "language_info": {
   "codemirror_mode": {
    "name": "ipython",
    "version": 3
   },
   "file_extension": ".py",
   "mimetype": "text/x-python",
   "name": "python",
   "nbconvert_exporter": "python",
   "pygments_lexer": "ipython3",
   "version": "3.11.4"
  }
 },
 "nbformat": 4,
 "nbformat_minor": 5
}
