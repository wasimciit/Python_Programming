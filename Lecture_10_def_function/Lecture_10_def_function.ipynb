{
 "cells": [
  {
   "cell_type": "markdown",
   "id": "b85a3290",
   "metadata": {},
   "source": [
    "#### **Defining a Function**\n",
    "\n",
    "A function is a reusable block of code or programming statements designed to perform a certain task. to define or declare a function, Python provides the def keyword. The following is the syntax for defining a function. The function block of code is executed only if the function is called or invoked, "
   ]
  },
  {
   "cell_type": "markdown",
   "id": "728734f2",
   "metadata": {},
   "source": [
    "#### **Calling a Function**\n"
   ]
  },
  {
   "cell_type": "code",
   "execution_count": null,
   "id": "7ec54bb1",
   "metadata": {},
   "outputs": [],
   "source": [
    "def function_name():\n",
    "    Code\n",
    "    Code\n",
    "    Code\n",
    "function_name()"
   ]
  },
  {
   "cell_type": "code",
   "execution_count": 1,
   "id": "86cac779",
   "metadata": {},
   "outputs": [],
   "source": [
    "def fulname():\n",
    "    sur=str(input(\"enter surname\"))\n",
    "    last=str(input(\"enter last name\"))\n",
    "    name= sur + \" \" + last\n",
    "    return name "
   ]
  },
  {
   "cell_type": "code",
   "execution_count": 2,
   "id": "096e640a",
   "metadata": {},
   "outputs": [
    {
     "data": {
      "text/plain": [
       "'muhammad  waseem'"
      ]
     },
     "execution_count": 2,
     "metadata": {},
     "output_type": "execute_result"
    }
   ],
   "source": [
    "fulname()"
   ]
  },
  {
   "cell_type": "markdown",
   "id": "908c579d",
   "metadata": {},
   "source": [
    "##### **Function without Parameters**"
   ]
  },
  {
   "cell_type": "code",
   "execution_count": 3,
   "id": "06980087",
   "metadata": {},
   "outputs": [],
   "source": [
    "def nam_fun():\n",
    "    surname='Muhammad'\n",
    "    lastname=\"Ali\"\n",
    "    space=''\n",
    "    full_name=space.join([surname,lastname])\n",
    "    print(full_name)"
   ]
  },
  {
   "cell_type": "code",
   "execution_count": 4,
   "id": "067fddb1",
   "metadata": {},
   "outputs": [],
   "source": [
    "def fulname_fun():\n",
    "    surname=\"Muhammad\"\n",
    "    lastname=\"Waseem\"\n",
    "    space=\" \"\n",
    "    full_name=surname+space+lastname\n",
    "    print(full_name)\n"
   ]
  },
  {
   "cell_type": "code",
   "execution_count": 5,
   "id": "3851eaad",
   "metadata": {},
   "outputs": [
    {
     "name": "stdout",
     "output_type": "stream",
     "text": [
      "Muhammad Waseem\n"
     ]
    }
   ],
   "source": [
    "fulname_fun()"
   ]
  },
  {
   "cell_type": "code",
   "execution_count": 6,
   "id": "bf4fc797",
   "metadata": {},
   "outputs": [
    {
     "name": "stdout",
     "output_type": "stream",
     "text": [
      "Muhammad Waseem\n",
      "None\n"
     ]
    }
   ],
   "source": [
    "print(fulname_fun())"
   ]
  },
  {
   "cell_type": "code",
   "execution_count": 7,
   "id": "d4aac1c5",
   "metadata": {},
   "outputs": [
    {
     "name": "stdout",
     "output_type": "stream",
     "text": [
      "30\n"
     ]
    }
   ],
   "source": [
    "def addition():\n",
    "    num1=10\n",
    "    num2=20\n",
    "    sum=num1+num2\n",
    "    print(sum)\n",
    "addition()"
   ]
  },
  {
   "cell_type": "markdown",
   "id": "80ee72f4",
   "metadata": {},
   "source": [
    "##### **Function Returning a Value**"
   ]
  },
  {
   "cell_type": "code",
   "execution_count": 8,
   "id": "9ca410b7",
   "metadata": {},
   "outputs": [
    {
     "data": {
      "text/plain": [
       "'Muhammad Waseem'"
      ]
     },
     "execution_count": 8,
     "metadata": {},
     "output_type": "execute_result"
    }
   ],
   "source": [
    "def fulname_fun():\n",
    "    surname = input(\"Enter your surname: \")\n",
    "    name = input(\"Enter your name: \")\n",
    "    space = \" \"\n",
    "    full_name = surname + space + name\n",
    "    return full_name\n",
    "fulname_fun()"
   ]
  },
  {
   "cell_type": "code",
   "execution_count": 9,
   "id": "056a09ff",
   "metadata": {},
   "outputs": [
    {
     "data": {
      "text/plain": [
       "10"
      ]
     },
     "execution_count": 9,
     "metadata": {},
     "output_type": "execute_result"
    }
   ],
   "source": [
    "def subtraction():\n",
    "    num1=20\n",
    "    num2=10\n",
    "    sub=num1-num2\n",
    "    return sub\n",
    "subtraction()"
   ]
  },
  {
   "cell_type": "code",
   "execution_count": 10,
   "id": "6d382b35",
   "metadata": {},
   "outputs": [],
   "source": [
    "def addition_fun():\n",
    "    num1=int(input(\"Enter first number: \"))\n",
    "    num2=int(input(\"Enter second number: \"))\n",
    "    sum=num1+num2\n",
    "    return sum"
   ]
  },
  {
   "cell_type": "code",
   "execution_count": 11,
   "id": "aab5717b",
   "metadata": {},
   "outputs": [
    {
     "name": "stdout",
     "output_type": "stream",
     "text": [
      "166\n"
     ]
    }
   ],
   "source": [
    "print(addition_fun())"
   ]
  },
  {
   "cell_type": "markdown",
   "id": "2d58b0d3",
   "metadata": {},
   "source": [
    "##### **Function with parameter**"
   ]
  },
  {
   "cell_type": "code",
   "execution_count": 12,
   "id": "dcb39618",
   "metadata": {},
   "outputs": [],
   "source": [
    "def add_100(num):\n",
    "    hundred=100\n",
    "    sum=num+hundred\n",
    "    return sum"
   ]
  },
  {
   "cell_type": "code",
   "execution_count": 13,
   "id": "89b1212c",
   "metadata": {},
   "outputs": [
    {
     "name": "stdout",
     "output_type": "stream",
     "text": [
      "150\n"
     ]
    }
   ],
   "source": [
    "print(add_100(50))"
   ]
  },
  {
   "cell_type": "code",
   "execution_count": 14,
   "id": "ff71a041",
   "metadata": {},
   "outputs": [],
   "source": [
    "def square_fun(x):\n",
    "    square=x*x\n",
    "    return square"
   ]
  },
  {
   "cell_type": "code",
   "execution_count": 15,
   "id": "3285555f",
   "metadata": {},
   "outputs": [
    {
     "data": {
      "text/plain": [
       "25"
      ]
     },
     "execution_count": 15,
     "metadata": {},
     "output_type": "execute_result"
    }
   ],
   "source": [
    "square_fun(5)"
   ]
  },
  {
   "cell_type": "code",
   "execution_count": 16,
   "id": "f20fa459",
   "metadata": {},
   "outputs": [],
   "source": [
    "# Area of Circle\n",
    "def area_of_circle(radius):\n",
    "    pi=3.14\n",
    "    area=pi*radius*radius\n",
    "    return area"
   ]
  },
  {
   "cell_type": "code",
   "execution_count": 18,
   "id": "8f8ba95a",
   "metadata": {},
   "outputs": [
    {
     "data": {
      "text/plain": [
       "78.5"
      ]
     },
     "execution_count": 18,
     "metadata": {},
     "output_type": "execute_result"
    }
   ],
   "source": [
    "area_of_circle(5)"
   ]
  },
  {
   "cell_type": "code",
   "execution_count": 19,
   "id": "2f3d57bd",
   "metadata": {},
   "outputs": [],
   "source": [
    "def sum_of_numbers(n):\n",
    "    sum=0\n",
    "    for i in range(1,n+1):\n",
    "        sum+=i\n",
    "    return sum"
   ]
  },
  {
   "cell_type": "code",
   "execution_count": 20,
   "id": "8bfedea5",
   "metadata": {},
   "outputs": [
    {
     "data": {
      "text/plain": [
       "4095"
      ]
     },
     "execution_count": 20,
     "metadata": {},
     "output_type": "execute_result"
    }
   ],
   "source": [
    "sum_of_numbers(90)"
   ]
  },
  {
   "cell_type": "code",
   "execution_count": null,
   "id": "3a4b1413",
   "metadata": {},
   "outputs": [],
   "source": []
  }
 ],
 "metadata": {
  "kernelspec": {
   "display_name": "my_env",
   "language": "python",
   "name": "python3"
  },
  "language_info": {
   "codemirror_mode": {
    "name": "ipython",
    "version": 3
   },
   "file_extension": ".py",
   "mimetype": "text/x-python",
   "name": "python",
   "nbconvert_exporter": "python",
   "pygments_lexer": "ipython3",
   "version": "3.11.4"
  }
 },
 "nbformat": 4,
 "nbformat_minor": 5
}
