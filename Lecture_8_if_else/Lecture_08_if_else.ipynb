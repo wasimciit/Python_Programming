{
 "cells": [
  {
   "cell_type": "markdown",
   "metadata": {},
   "source": [
    "# If-else Statement\n",
    "\n",
    "The if-else statement is used in Python for decision-making. It allows a program to execute certain code only when a specific condition is true, and another block of code if the condition is false.\n",
    "\n"
   ]
  },
  {
   "cell_type": "markdown",
   "metadata": {},
   "source": [
    "#### Q1: Write a program that checks if a number is positive."
   ]
  },
  {
   "cell_type": "code",
   "execution_count": 6,
   "metadata": {},
   "outputs": [
    {
     "name": "stdout",
     "output_type": "stream",
     "text": [
      "The number is negative\n"
     ]
    }
   ],
   "source": [
    "num=int(input(\"enter a number\"))\n",
    "if num>0:\n",
    "    print(\"The number is positive\")\n",
    "else:\n",
    "    print(\"The number is negative\")"
   ]
  },
  {
   "cell_type": "markdown",
   "metadata": {},
   "source": [
    "#### Q2: Write a program to check whether a number is even or odd."
   ]
  },
  {
   "cell_type": "code",
   "execution_count": 7,
   "metadata": {},
   "outputs": [
    {
     "name": "stdout",
     "output_type": "stream",
     "text": [
      "The number is odd\n"
     ]
    }
   ],
   "source": [
    "num=int(input('Enter a number'))\n",
    "if num%2==0:\n",
    "    print(\"The number is even\")\n",
    "else:\n",
    "    print(\"The number is odd\")\n",
    "    "
   ]
  },
  {
   "cell_type": "markdown",
   "metadata": {},
   "source": [
    "#### Q3: Check if a number is positive, negative, or zero."
   ]
  },
  {
   "cell_type": "code",
   "execution_count": 9,
   "metadata": {},
   "outputs": [
    {
     "name": "stdout",
     "output_type": "stream",
     "text": [
      "The number is negative\n"
     ]
    }
   ],
   "source": [
    "num=int(input('Enter a number'))\n",
    "if num>0:\n",
    "    print(\"The number is positive\")\n",
    "elif num<0:\n",
    "    print(\"The number is negative\")\n",
    "else:\n",
    "    print(\"The number is zero\")"
   ]
  },
  {
   "cell_type": "markdown",
   "metadata": {},
   "source": [
    "#### Q4: Write a program to find the greater of two numbers."
   ]
  },
  {
   "cell_type": "code",
   "execution_count": 11,
   "metadata": {},
   "outputs": [
    {
     "name": "stdout",
     "output_type": "stream",
     "text": [
      "The first number is greater\n"
     ]
    }
   ],
   "source": [
    "num1=int(input('Enter first number'))\n",
    "num2=int(input('Enter second number'))\n",
    "if num1>num2:\n",
    "    print(\"The first number is greater\")\n",
    "else:\n",
    "    print(\"The second number is greater\")"
   ]
  },
  {
   "cell_type": "code",
   "execution_count": 20,
   "metadata": {},
   "outputs": [
    {
     "name": "stdout",
     "output_type": "stream",
     "text": [
      "The first number is greater\n"
     ]
    }
   ],
   "source": [
    "a=55\n",
    "b=45\n",
    "if a>b:\n",
    "    print(\"The first number is greater\")\n",
    "elif a<b:\n",
    "    print(\"The second number is greater\")\n",
    "else:\n",
    "    print(\"The numbers are equal\")"
   ]
  },
  {
   "cell_type": "code",
   "execution_count": null,
   "metadata": {},
   "outputs": [],
   "source": []
  },
  {
   "cell_type": "markdown",
   "metadata": {},
   "source": [
    "#### Q5: Assign a grade based on score:\n",
    "\n",
    "90+ = A\n",
    "\n",
    "80+ = B\n",
    "\n",
    "70+ = C\n",
    "\n",
    "Otherwise = F"
   ]
  },
  {
   "cell_type": "code",
   "execution_count": null,
   "metadata": {},
   "outputs": [],
   "source": [
    "marks=int(input('Enter your marks'))\n",
    "if marks>=90 and marks<=100:\n",
    "    print(\"Grade A\")\n",
    "elif marks>=80:\n",
    "    print(\"Grade B\")\n",
    "elif marks>=70:\n",
    "    print(\"Grade C\")\n",
    "else:\n",
    "    print(\"otherewise f\")\n",
    "    \n"
   ]
  },
  {
   "cell_type": "markdown",
   "metadata": {},
   "source": [
    "#### Q6: Write a program to check if a person is eligible to vote (age >= 18)."
   ]
  },
  {
   "cell_type": "code",
   "execution_count": 1,
   "metadata": {},
   "outputs": [
    {
     "name": "stdout",
     "output_type": "stream",
     "text": [
      "You are not eligible to vote\n"
     ]
    }
   ],
   "source": [
    "age=int(input('Enter your age'))\n",
    "if age>=18:\n",
    "    print(\"You are eligible to vote\")\n",
    "else:\n",
    "    print(\"You are not eligible to vote\")"
   ]
  },
  {
   "cell_type": "markdown",
   "metadata": {},
   "source": [
    "#### Q7: Write a program to find the largest of three numbers."
   ]
  },
  {
   "cell_type": "code",
   "execution_count": 4,
   "metadata": {},
   "outputs": [
    {
     "name": "stdout",
     "output_type": "stream",
     "text": [
      "C is the greatest\n"
     ]
    }
   ],
   "source": [
    "A=int(input('Enter first number'))\n",
    "B=int(input('Enter second number'))\n",
    "C=int(input('Enter third number'))\n",
    "if A>B and A>C:\n",
    "    print(\"A is the greatest\")\n",
    "elif B>A and B>C:\n",
    "    print(\"B is the greatest\")\n",
    "elif C>A and C>B:\n",
    "    print(\"C is the greatest\")\n",
    "else:\n",
    "    print(\"All are equal\")\n"
   ]
  },
  {
   "cell_type": "markdown",
   "metadata": {},
   "source": [
    "#### Q8: Write a program to check if a password is correct."
   ]
  },
  {
   "cell_type": "code",
   "execution_count": 5,
   "metadata": {},
   "outputs": [
    {
     "name": "stdout",
     "output_type": "stream",
     "text": [
      "Access denied\n"
     ]
    }
   ],
   "source": [
    "password=input('Enter your password')\n",
    "passcode=\"1234\"\n",
    "if password==passcode:\n",
    "    print(\"Access granted\")\n",
    "else:\n",
    "    print(\"Access denied\")"
   ]
  },
  {
   "cell_type": "markdown",
   "metadata": {},
   "source": [
    "#### Q9: Write a program to check whether a number is divisible by both 5 and 11."
   ]
  },
  {
   "cell_type": "code",
   "execution_count": 12,
   "metadata": {},
   "outputs": [
    {
     "name": "stdout",
     "output_type": "stream",
     "text": [
      "The number is not divisible by 5 and 11\n"
     ]
    }
   ],
   "source": [
    "num=int(input('Enter a number'))\n",
    "if num%5==0 & num%11==0:       \n",
    "    print(\"The number is divisible by 5 and 11\")\n",
    "else:\n",
    "    print(\"The number is not divisible by 5 and 11\")\n"
   ]
  }
 ],
 "metadata": {
  "kernelspec": {
   "display_name": "my_env",
   "language": "python",
   "name": "python3"
  },
  "language_info": {
   "codemirror_mode": {
    "name": "ipython",
    "version": 3
   },
   "file_extension": ".py",
   "mimetype": "text/x-python",
   "name": "python",
   "nbconvert_exporter": "python",
   "pygments_lexer": "ipython3",
   "version": "3.11.4"
  }
 },
 "nbformat": 4,
 "nbformat_minor": 2
}
