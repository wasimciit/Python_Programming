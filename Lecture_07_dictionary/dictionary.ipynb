{
 "cells": [
  {
   "cell_type": "markdown",
   "metadata": {},
   "source": [
    "### Dictionary \n",
    "\n",
    "- Dictionaries are used to store data values in key:value pairs.\n",
    "\n",
    "- A dictionary is a collection ehich is ordered, changeable and do not allow duplicates \n",
    "\n",
    "- Dicitionaries are written with curly brackets, and have keys and values"
   ]
  },
  {
   "cell_type": "code",
   "execution_count": 1,
   "metadata": {},
   "outputs": [
    {
     "name": "stdout",
     "output_type": "stream",
     "text": [
      "{'name': 'waseem', 'qualification': 'PhD', 'byear': '1981'}\n"
     ]
    }
   ],
   "source": [
    "dic={\"name\":\"waseem\",\n",
    "\"qualification\":\"PhD\",\n",
    "\"byear\":\"1981\"}\n",
    "print(dic)"
   ]
  },
  {
   "cell_type": "code",
   "execution_count": 2,
   "metadata": {},
   "outputs": [
    {
     "name": "stdout",
     "output_type": "stream",
     "text": [
      "waseem\n"
     ]
    }
   ],
   "source": [
    "# dictionary items are presented in key:value pairs, and can be referred to by using the key name.\n",
    "print(dic[\"name\"])"
   ]
  },
  {
   "cell_type": "code",
   "execution_count": 2,
   "metadata": {},
   "outputs": [
    {
     "name": "stdout",
     "output_type": "stream",
     "text": [
      "{'name': 'waseem', 'qualification': 'PhD', 'byear': '1984'}\n"
     ]
    }
   ],
   "source": [
    "# dictionary items are ordered, changeable, and do not allow duplicates.\n",
    "# dictionaries cannot have two items with the same key.\n",
    "dic1={\"name\":\"waseem\",\n",
    "\"qualification\":\"PhD\",\n",
    "\"byear\":\"1981\",\n",
    "\"byear\":\"1984\"}\n",
    "print(dic1)"
   ]
  },
  {
   "cell_type": "code",
   "execution_count": 5,
   "metadata": {},
   "outputs": [
    {
     "name": "stdout",
     "output_type": "stream",
     "text": [
      "3\n"
     ]
    }
   ],
   "source": [
    "# length function\n",
    "print(len(dic1))"
   ]
  },
  {
   "cell_type": "code",
   "execution_count": 8,
   "metadata": {},
   "outputs": [
    {
     "name": "stdout",
     "output_type": "stream",
     "text": [
      "{'name': 'waseem', 'qualification': 'PhD', 'byear': '19881', 'age': 43, 'height': 5.8, 'weight': 70.5, 'married': True, 'children': 3, 'address': {'city': 'Multan', 'country': 'Pakistan'}, 'skills': ['python', 'SPSS', 'AMOS'], 'languages': ('english', 'urdu', 'saraki', 'punjabi', 'Chinese'), 'salary': 10000.5}\n"
     ]
    }
   ],
   "source": [
    "# data types in dictionary\n",
    "# string, int, float, boolean, list, tuple, dictionary\n",
    "dic2={\"name\":\"waseem\",\n",
    "\"qualification\":\"PhD\",\n",
    "\"byear\":\"19881\",\n",
    "\"age\":43,\n",
    "\"height\":5.8,\n",
    "\"weight\":70.5,\n",
    "\"married\":True,\n",
    "\"children\":3,\n",
    "\"address\":{\"city\":\"Multan\",\n",
    "\"country\":\"Pakistan\"},\n",
    "\"skills\":[\"python\",\"SPSS\",\"AMOS\"],\n",
    "\"languages\":(\"english\",\"urdu\",\"saraki\",\"punjabi\",\"Chinese\"),\n",
    "\"salary\":10000.50}\n",
    "print(dic2)"
   ]
  },
  {
   "cell_type": "code",
   "execution_count": 9,
   "metadata": {},
   "outputs": [
    {
     "name": "stdout",
     "output_type": "stream",
     "text": [
      "<class 'dict'>\n"
     ]
    }
   ],
   "source": [
    "# type function\n",
    "print(type(dic2))"
   ]
  },
  {
   "cell_type": "code",
   "execution_count": 14,
   "metadata": {},
   "outputs": [
    {
     "name": "stdout",
     "output_type": "stream",
     "text": [
      "waseem\n",
      "Multan\n",
      "python\n",
      "urdu\n",
      "10000.5\n",
      "True\n",
      "3\n"
     ]
    }
   ],
   "source": [
    "# Accessing Items\n",
    "# You can access the items of a dictionary by referring to its key name, inside square brackets.\n",
    "print(dic2[\"name\"])\n",
    "print(dic2[\"address\"][\"city\"])\n",
    "print(dic2[\"skills\"][0])\n",
    "print(dic2[\"languages\"][1])\n",
    "print(dic2[\"salary\"])\n",
    "print(dic2[\"married\"])\n",
    "print(dic2[\"children\"])"
   ]
  },
  {
   "cell_type": "code",
   "execution_count": 16,
   "metadata": {},
   "outputs": [
    {
     "name": "stdout",
     "output_type": "stream",
     "text": [
      "waseem\n"
     ]
    }
   ],
   "source": [
    "# there is another way to access the items of a dictionary by using the get() method.\n",
    "x=dic2.get(\"name\")\n",
    "print(x)"
   ]
  },
  {
   "cell_type": "code",
   "execution_count": 17,
   "metadata": {},
   "outputs": [
    {
     "name": "stdout",
     "output_type": "stream",
     "text": [
      "dict_keys(['name', 'qualification', 'byear', 'age', 'height', 'weight', 'married', 'children', 'address', 'skills', 'languages', 'salary'])\n"
     ]
    }
   ],
   "source": [
    "# Get Keys\n",
    "# The keys() method returns a view object that displays a list of all the keys in the dictionary.\n",
    "x=dic2.keys()\n",
    "print(x)"
   ]
  },
  {
   "cell_type": "code",
   "execution_count": 20,
   "metadata": {},
   "outputs": [
    {
     "name": "stdout",
     "output_type": "stream",
     "text": [
      "dict_items([('name', 'waseem'), ('qualification', 'PhD'), ('byear', '19881'), ('age', 43)])\n"
     ]
    }
   ],
   "source": [
    "# ge a list of the key:value pair\n",
    "dic3={\"name\":\"waseem\",\n",
    "\"qualification\":\"PhD\",\n",
    "\"byear\":\"19881\",\n",
    "\"age\":43}\n",
    "x=dic3.items()\n",
    "print(x)"
   ]
  },
  {
   "cell_type": "code",
   "execution_count": 21,
   "metadata": {},
   "outputs": [
    {
     "name": "stdout",
     "output_type": "stream",
     "text": [
      "dict_items([('name', 'Muhammad Waseem'), ('qualification', 'PhD'), ('byear', '19881'), ('age', 43)])\n"
     ]
    }
   ],
   "source": [
    "dic3['name']='Muhammad Waseem'\n",
    "print(x)"
   ]
  },
  {
   "cell_type": "code",
   "execution_count": 22,
   "metadata": {},
   "outputs": [
    {
     "name": "stdout",
     "output_type": "stream",
     "text": [
      "key exists\n"
     ]
    }
   ],
   "source": [
    "# check if key exists\n",
    "if 'name' in dic3:\n",
    "    print(\"key exists\")\n",
    "else:\n",
    "    print(\"key does not exist\")"
   ]
  },
  {
   "cell_type": "code",
   "execution_count": 24,
   "metadata": {},
   "outputs": [
    {
     "name": "stdout",
     "output_type": "stream",
     "text": [
      "{'name': 'Dr. Muhammad Waseem', 'qualification': 'PhD', 'byear': '19881', 'age': 43}\n",
      "{'name': 'Dr. Muhammad Waseem', 'qualification': 'PhD in Management', 'byear': '19881', 'age': 43}\n"
     ]
    }
   ],
   "source": [
    "# change values\n",
    "dic3['name']='Dr. Muhammad Waseem'\n",
    "print(dic3)\n",
    "dic3['qualification']='PhD in Management'\n",
    "print(dic3)"
   ]
  },
  {
   "cell_type": "code",
   "execution_count": 25,
   "metadata": {},
   "outputs": [
    {
     "name": "stdout",
     "output_type": "stream",
     "text": [
      "{'name': 'Dr. Muhammad Waseem', 'qualification': 'PhD in Management', 'byear': 'sep 1981', 'age': 43}\n"
     ]
    }
   ],
   "source": [
    "#  update method\n",
    "dic3.update({'byear':'sep 1981'})\n",
    "print(dic3)"
   ]
  },
  {
   "cell_type": "code",
   "execution_count": null,
   "metadata": {},
   "outputs": [],
   "source": []
  }
 ],
 "metadata": {
  "kernelspec": {
   "display_name": "my_env",
   "language": "python",
   "name": "python3"
  },
  "language_info": {
   "codemirror_mode": {
    "name": "ipython",
    "version": 3
   },
   "file_extension": ".py",
   "mimetype": "text/x-python",
   "name": "python",
   "nbconvert_exporter": "python",
   "pygments_lexer": "ipython3",
   "version": "3.11.4"
  }
 },
 "nbformat": 4,
 "nbformat_minor": 2
}
