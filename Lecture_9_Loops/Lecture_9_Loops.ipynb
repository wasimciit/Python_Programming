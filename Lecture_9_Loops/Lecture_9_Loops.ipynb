{
 "cells": [
  {
   "cell_type": "markdown",
   "id": "d449383e",
   "metadata": {},
   "source": [
    "### Loops\n",
    "\n",
    "- Indaily life we do lots of repitative task, so, in programming we also do lots of repitative task which are called loops.\n",
    "  \n",
    "- There are two of Loops:\n",
    "  1. **While Loop**\n",
    "  2. **for loop**"
   ]
  },
  {
   "cell_type": "markdown",
   "id": "4dc9b042",
   "metadata": {},
   "source": [
    "### While Loop\n",
    "\n",
    "We use the reserved word while to make a while loop. It is used to execute a block of statements repeatedly until a given condition is satisfied. When the condition becomes false, the lines of code after the loop will be continued to be executed."
   ]
  },
  {
   "cell_type": "code",
   "execution_count": null,
   "id": "3bcde659",
   "metadata": {},
   "outputs": [],
   "source": [
    "# syntax\n",
    "while condition:\n",
    "    statement\n",
    "    statement\n",
    "    statement"
   ]
  },
  {
   "cell_type": "code",
   "execution_count": 26,
   "id": "75302849",
   "metadata": {},
   "outputs": [
    {
     "name": "stdout",
     "output_type": "stream",
     "text": [
      "Count is: 0\n",
      "Count is: 1\n",
      "Count is: 2\n",
      "Count is: 3\n",
      "Count is: 4\n"
     ]
    }
   ],
   "source": [
    "# example\n",
    "count=0\n",
    "while count < 5:\n",
    "    print(\"Count is:\", count)\n",
    "    count += 1"
   ]
  },
  {
   "cell_type": "markdown",
   "id": "6bd7b356",
   "metadata": {},
   "source": [
    "In the above while loop, the condition becomes false when count is 5. That is when the loop stops. If we are interested to run block of code once the condition is no longer true, we can use else."
   ]
  },
  {
   "cell_type": "code",
   "execution_count": null,
   "id": "8d7348c2",
   "metadata": {},
   "outputs": [],
   "source": [
    "# syntax\n",
    "while condition:\n",
    "    statement\n",
    "else:\n",
    "    statement\n",
    "    "
   ]
  },
  {
   "cell_type": "code",
   "execution_count": 3,
   "id": "f832a874",
   "metadata": {},
   "outputs": [
    {
     "name": "stdout",
     "output_type": "stream",
     "text": [
      "Count is: 0\n",
      "Count is: 1\n",
      "Count is: 2\n",
      "Count is: 3\n",
      "Count is: 4\n",
      "Count reached 5, exiting loop.\n"
     ]
    }
   ],
   "source": [
    "# example\n",
    "count = 0\n",
    "while count < 5:\n",
    "    print(\"Count is:\", count)\n",
    "    count += 1\n",
    "else:\n",
    "    print(\"Count reached 5, exiting loop.\")"
   ]
  },
  {
   "cell_type": "markdown",
   "id": "1cf392ce",
   "metadata": {},
   "source": [
    "The above loop condition will be false when count is 5 and the loop stops, and execution starts the else statement. As a result 5 will be printed."
   ]
  },
  {
   "cell_type": "markdown",
   "id": "bb07d074",
   "metadata": {},
   "source": [
    "### Break and Continue\n",
    "\n",
    "- **Break:** we use break when we like to stop the loop"
   ]
  },
  {
   "cell_type": "code",
   "execution_count": null,
   "id": "decb1c09",
   "metadata": {},
   "outputs": [],
   "source": [
    "# syntax\n",
    "while condition:\n",
    "    statement\n",
    "    if condition:\n",
    "        break"
   ]
  },
  {
   "cell_type": "code",
   "execution_count": 28,
   "id": "23bb4626",
   "metadata": {},
   "outputs": [
    {
     "name": "stdout",
     "output_type": "stream",
     "text": [
      "Count is: 0\n"
     ]
    }
   ],
   "source": [
    "# example\n",
    "count = 0\n",
    "while count < 5:\n",
    "    print(\"Count is:\", count)\n",
    "    count += 1\n",
    "    if count == 1:\n",
    "        break"
   ]
  },
  {
   "cell_type": "markdown",
   "id": "c12cc9e0",
   "metadata": {},
   "source": [
    "The above while loop only prints 0, 1, 2, 3 but when it reaches 4 it stops."
   ]
  },
  {
   "cell_type": "markdown",
   "id": "22be8e26",
   "metadata": {},
   "source": [
    "**Continue:** with the continue statement we can skip the current iteration, and continue with the next:"
   ]
  },
  {
   "cell_type": "code",
   "execution_count": null,
   "id": "96da68ee",
   "metadata": {},
   "outputs": [],
   "source": [
    "# syntax\n",
    "while condition:\n",
    "    statement\n",
    "    if condition:\n",
    "        continue"
   ]
  },
  {
   "cell_type": "code",
   "execution_count": 32,
   "id": "38f5cacd",
   "metadata": {},
   "outputs": [
    {
     "name": "stdout",
     "output_type": "stream",
     "text": [
      "integer is: 0\n",
      "integer is: 1\n",
      "integer is: 2\n",
      "integer is: 3\n",
      "integer is: 4\n",
      "integer is: 5\n",
      "integer is: 6\n",
      "integer is: 7\n",
      "integer is: 8\n",
      "integer is: 9\n"
     ]
    }
   ],
   "source": [
    "i=0\n",
    "while i<10:\n",
    "    print(\"integer is:\",i)\n",
    "    i+=1"
   ]
  },
  {
   "cell_type": "code",
   "execution_count": 34,
   "id": "aa533800",
   "metadata": {},
   "outputs": [
    {
     "name": "stdout",
     "output_type": "stream",
     "text": [
      "integer is : 0\n",
      "integer is : 1\n",
      "integer is : 2\n",
      "integer is : 3\n",
      "integer is : 4\n",
      "integer is : 5\n",
      "integer is : 6\n",
      "integer is : 7\n",
      "integer is : 8\n",
      "integer is : 9\n",
      "exiting at 10\n"
     ]
    }
   ],
   "source": [
    "i=0\n",
    "while i<10:\n",
    "    print(\"integer is :\",i)\n",
    "    i+=1\n",
    "else:\n",
    "    print(\"exiting at 10\")"
   ]
  },
  {
   "cell_type": "code",
   "execution_count": 35,
   "id": "1c7c70db",
   "metadata": {},
   "outputs": [
    {
     "name": "stdout",
     "output_type": "stream",
     "text": [
      "integer is: 0\n",
      "integer is: 1\n",
      "integer is: 2\n",
      "integer is: 3\n",
      "integer is: 4\n"
     ]
    }
   ],
   "source": [
    "i=0\n",
    "while i<10:\n",
    "    print(\"integer is:\",i)\n",
    "    i+=1\n",
    "    if i==5:\n",
    "        break"
   ]
  },
  {
   "cell_type": "code",
   "execution_count": 31,
   "id": "9b18ff8a",
   "metadata": {},
   "outputs": [
    {
     "name": "stdout",
     "output_type": "stream",
     "text": [
      "Count is: 0\n",
      "Count is: 1\n",
      "Count is: 3\n",
      "Count is: 4\n"
     ]
    }
   ],
   "source": [
    "# example\n",
    "count = 0\n",
    "while count < 5:\n",
    "    if count == 2:\n",
    "        \n",
    "        count += 1\n",
    "        continue\n",
    "    print(\"Count is:\", count)\n",
    "    count += 1"
   ]
  },
  {
   "cell_type": "markdown",
   "id": "a35ab4e7",
   "metadata": {},
   "source": [
    "The above while loop only prints 0, 1, 3 and 4 (skips 2)."
   ]
  },
  {
   "cell_type": "markdown",
   "id": "23006802",
   "metadata": {},
   "source": [
    "### For Loop\n",
    "\n",
    "A for keyword is used to make a for loop, similar with other programming languages, but with some syntax differences. Loop is used for iterating over a sequence (that is either a list, a tuple, a dictionary, a set, or a string)."
   ]
  },
  {
   "cell_type": "code",
   "execution_count": null,
   "id": "f5bb3480",
   "metadata": {},
   "outputs": [],
   "source": [
    "# for loop with list\n",
    "# syntax\n",
    "for variable in list:\n",
    "    statement"
   ]
  },
  {
   "cell_type": "code",
   "execution_count": 8,
   "id": "dcb85ab9",
   "metadata": {},
   "outputs": [
    {
     "name": "stdout",
     "output_type": "stream",
     "text": [
      "Number is: 1\n",
      "Number is: 2\n",
      "Number is: 3\n",
      "Number is: 4\n",
      "Number is: 5\n"
     ]
    }
   ],
   "source": [
    "# example\n",
    "number=[1, 2, 3, 4, 5]\n",
    "for num in number:\n",
    "    print(\"Number is:\", num)"
   ]
  },
  {
   "cell_type": "code",
   "execution_count": 9,
   "id": "6114794c",
   "metadata": {},
   "outputs": [
    {
     "name": "stdout",
     "output_type": "stream",
     "text": [
      "Letter is: P\n",
      "Letter is: y\n",
      "Letter is: t\n",
      "Letter is: h\n",
      "Letter is: o\n",
      "Letter is: n\n"
     ]
    }
   ],
   "source": [
    "# for loop with string\n",
    "programming = \"Python\"\n",
    "for word in programming:\n",
    "    print(\"Letter is:\", word)"
   ]
  },
  {
   "cell_type": "code",
   "execution_count": 10,
   "id": "80332bfc",
   "metadata": {},
   "outputs": [
    {
     "name": "stdout",
     "output_type": "stream",
     "text": [
      "Letter is: P\n",
      "Letter is: y\n",
      "Letter is: t\n",
      "Letter is: h\n",
      "Letter is: o\n",
      "Letter is: n\n"
     ]
    }
   ],
   "source": [
    "for i in range(len(programming)):\n",
    "    print(\"Letter is:\", programming[i])"
   ]
  },
  {
   "cell_type": "code",
   "execution_count": 1,
   "id": "95906edb",
   "metadata": {},
   "outputs": [
    {
     "name": "stdout",
     "output_type": "stream",
     "text": [
      "Letter is: P\n",
      "Letter is: r\n",
      "Letter is: o\n",
      "Letter is: g\n",
      "Letter is: r\n",
      "Letter is: a\n",
      "Letter is: m\n",
      "Letter is: m\n",
      "Letter is: i\n",
      "Letter is: n\n",
      "Letter is: g\n"
     ]
    }
   ],
   "source": [
    "for i in range(len(\"Programming\")):\n",
    "    print(\"Letter is:\", \"Programming\"[i])"
   ]
  },
  {
   "cell_type": "code",
   "execution_count": 11,
   "id": "37bbeee9",
   "metadata": {},
   "outputs": [
    {
     "name": "stdout",
     "output_type": "stream",
     "text": [
      "Number is: 1\n",
      "Number is: 2\n",
      "Number is: 3\n",
      "Number is: 4\n",
      "Number is: 5\n"
     ]
    }
   ],
   "source": [
    "# for loop with tuple\n",
    "num=(1, 2, 3, 4, 5)\n",
    "for n in num:\n",
    "    print(\"Number is:\", n)"
   ]
  },
  {
   "cell_type": "code",
   "execution_count": 12,
   "id": "1edc12e3",
   "metadata": {},
   "outputs": [
    {
     "name": "stdout",
     "output_type": "stream",
     "text": [
      "Key is: name\n",
      "Key is: age\n",
      "Key is: Country\n"
     ]
    }
   ],
   "source": [
    "# for loop with dictionary\n",
    "dict1 = {'name': 'waseem', 'age': 42, 'Country': 'Pakistan'}\n",
    "for key in dict1:\n",
    "    print(\"Key is:\", key)"
   ]
  },
  {
   "cell_type": "code",
   "execution_count": 13,
   "id": "af33e183",
   "metadata": {},
   "outputs": [
    {
     "name": "stdout",
     "output_type": "stream",
     "text": [
      "Key is: name\n",
      "Value is: waseem\n",
      "Key is: age\n",
      "Value is: 42\n",
      "Key is: Country\n",
      "Value is: Pakistan\n"
     ]
    }
   ],
   "source": [
    "for key, value in dict1.items():\n",
    "    print(\"Key is:\", key)\n",
    "    print(\"Value is:\", value)"
   ]
  },
  {
   "cell_type": "code",
   "execution_count": 15,
   "id": "7ebb34d6",
   "metadata": {},
   "outputs": [
    {
     "name": "stdout",
     "output_type": "stream",
     "text": [
      "name waseem\n",
      "age 42\n",
      "Country Pakistan\n"
     ]
    }
   ],
   "source": [
    "for key, value in dict1.items():\n",
    "    print(key, value) "
   ]
  },
  {
   "cell_type": "code",
   "execution_count": 16,
   "id": "f1cb145c",
   "metadata": {},
   "outputs": [
    {
     "name": "stdout",
     "output_type": "stream",
     "text": [
      "Wah University is: Pakistan\n",
      "Wah University is: Wah\n",
      "Wah University is: University\n"
     ]
    }
   ],
   "source": [
    "# for loop with set\n",
    "wah_university = {'Wah', 'University', 'Pakistan'}\n",
    "for wah in wah_university:\n",
    "    print(\"Wah University is:\", wah)"
   ]
  },
  {
   "cell_type": "code",
   "execution_count": 17,
   "id": "291a2a2d",
   "metadata": {},
   "outputs": [
    {
     "name": "stdout",
     "output_type": "stream",
     "text": [
      "Number is: 0\n",
      "Number is: 1\n",
      "Number is: 2\n",
      "Number is: 3\n",
      "Number is: 4\n"
     ]
    }
   ],
   "source": [
    "# for loop with break and continue\n",
    "# example\n",
    "for i in range(10):\n",
    "    if i == 5:\n",
    "        break\n",
    "    print(\"Number is:\", i)"
   ]
  },
  {
   "cell_type": "code",
   "execution_count": 18,
   "id": "217cf4e1",
   "metadata": {},
   "outputs": [
    {
     "name": "stdout",
     "output_type": "stream",
     "text": [
      "Number is: 0\n",
      "Number is: 1\n",
      "Number is: 2\n",
      "Number is: 3\n",
      "Number is: 4\n"
     ]
    }
   ],
   "source": [
    "for i in range(5):\n",
    "    print(\"Number is:\", i)"
   ]
  },
  {
   "cell_type": "code",
   "execution_count": 19,
   "id": "65f6683f",
   "metadata": {},
   "outputs": [
    {
     "name": "stdout",
     "output_type": "stream",
     "text": [
      "Number is: 0\n",
      "Number is: 1\n",
      "Number is: 2\n",
      "Number is: 3\n",
      "Number is: 4\n",
      "Number is: 6\n",
      "Number is: 7\n",
      "Number is: 8\n",
      "Number is: 9\n"
     ]
    }
   ],
   "source": [
    "for i in range(10):\n",
    "    if i == 5:\n",
    "        continue\n",
    "    print(\"Number is:\", i)"
   ]
  },
  {
   "cell_type": "code",
   "execution_count": 20,
   "id": "f90d9488",
   "metadata": {},
   "outputs": [
    {
     "name": "stdout",
     "output_type": "stream",
     "text": [
      "Number is: 0\n",
      "Number is: 1\n",
      "Number is: 2\n",
      "Number is: 3\n",
      "Number is: 4\n"
     ]
    }
   ],
   "source": [
    "# for loop with range\n",
    "# example\n",
    "for i in range(5):\n",
    "    print(\"Number is:\", i)"
   ]
  },
  {
   "cell_type": "code",
   "execution_count": 21,
   "id": "c55aa9ec",
   "metadata": {},
   "outputs": [
    {
     "name": "stdout",
     "output_type": "stream",
     "text": [
      "Number is: 1\n",
      "Number is: 3\n",
      "Number is: 5\n",
      "Number is: 7\n",
      "Number is: 9\n"
     ]
    }
   ],
   "source": [
    "for i in range(1, 10, 2):\n",
    "    print(\"Number is:\", i)"
   ]
  },
  {
   "cell_type": "code",
   "execution_count": 22,
   "id": "2e386a06",
   "metadata": {},
   "outputs": [
    {
     "name": "stdout",
     "output_type": "stream",
     "text": [
      "2 x 1 = 2\n",
      "2 x 2 = 4\n",
      "2 x 3 = 6\n",
      "2 x 4 = 8\n",
      "2 x 5 = 10\n",
      "2 x 6 = 12\n",
      "2 x 7 = 14\n",
      "2 x 8 = 16\n",
      "2 x 9 = 18\n",
      "2 x 10 = 20\n"
     ]
    }
   ],
   "source": [
    "for i in range(1,11):\n",
    "    print('2 x', i, '=', 2*i)\n",
    "    "
   ]
  },
  {
   "cell_type": "code",
   "execution_count": 23,
   "id": "b8b7b668",
   "metadata": {},
   "outputs": [
    {
     "name": "stdout",
     "output_type": "stream",
     "text": [
      "2\n",
      "4\n",
      "6\n",
      "8\n",
      "10\n",
      "12\n",
      "14\n",
      "16\n",
      "18\n"
     ]
    }
   ],
   "source": [
    "for i in range(2,20,2):\n",
    "    print(i)"
   ]
  },
  {
   "cell_type": "code",
   "execution_count": null,
   "id": "f7085bf2",
   "metadata": {},
   "outputs": [],
   "source": [
    "# Print Numbers:\n",
    "Write a for loop to print numbers from 1 to 10.\n",
    "\n",
    "# Sum of Numbers:\n",
    "Use a for loop to find the sum of numbers from 1 to 100.\n",
    "\n",
    "# Even Numbers:\n",
    "Write a for loop to print all even numbers between 2 and 20.\n",
    "\n",
    "# Multiplication Table:\n",
    "Write a for loop to print the multiplication table of 5 (up to 10).\n",
    "\n",
    "# Print Each Character:\n",
    "Given a string, print each character on a new line using a for loop.\n",
    "Example: \"Python\" → print P, y, t, h, o, n"
   ]
  },
  {
   "cell_type": "code",
   "execution_count": 1,
   "id": "b0956f2c",
   "metadata": {},
   "outputs": [
    {
     "name": "stdout",
     "output_type": "stream",
     "text": [
      "1\n",
      "2\n",
      "3\n",
      "4\n",
      "5\n",
      "6\n",
      "7\n",
      "8\n",
      "9\n",
      "10\n"
     ]
    }
   ],
   "source": [
    "# Write a for loop to print numbers from 1 to 10.\n",
    "for i in range(1, 11):\n",
    "    print(i)"
   ]
  },
  {
   "cell_type": "code",
   "execution_count": 2,
   "id": "e7909085",
   "metadata": {},
   "outputs": [
    {
     "name": "stdout",
     "output_type": "stream",
     "text": [
      "2\n",
      "4\n",
      "6\n",
      "8\n",
      "10\n",
      "12\n",
      "14\n",
      "16\n",
      "18\n",
      "20\n"
     ]
    }
   ],
   "source": [
    "# Write a for loop to print all even numbers between 2 and 20.\n",
    "for i in range(2,21):\n",
    "    if i % 2 == 0:\n",
    "        print(i)\n"
   ]
  },
  {
   "cell_type": "code",
   "execution_count": 3,
   "id": "bd2d036d",
   "metadata": {},
   "outputs": [
    {
     "name": "stdout",
     "output_type": "stream",
     "text": [
      "5 x 1 = 5\n",
      "5 x 2 = 10\n",
      "5 x 3 = 15\n",
      "5 x 4 = 20\n",
      "5 x 5 = 25\n",
      "5 x 6 = 30\n",
      "5 x 7 = 35\n",
      "5 x 8 = 40\n",
      "5 x 9 = 45\n",
      "5 x 10 = 50\n"
     ]
    }
   ],
   "source": [
    "# Write a for loop to print the multiplication table of 5 (up to 10).\n",
    "for i in range(1, 11):\n",
    "    print(\"5 x\", i, \"=\", 5 * i)"
   ]
  },
  {
   "cell_type": "code",
   "execution_count": 4,
   "id": "59994cfa",
   "metadata": {},
   "outputs": [
    {
     "name": "stdout",
     "output_type": "stream",
     "text": [
      "P\n",
      "y\n",
      "t\n",
      "h\n",
      "o\n",
      "n\n"
     ]
    }
   ],
   "source": [
    "# Given a string, print each character on a new line using a for loop.\n",
    "# Example: \"Python\" → print P, y, t, h, o, n\n",
    "string = \"Python\"\n",
    "for char in string:\n",
    "    print(char)"
   ]
  },
  {
   "cell_type": "markdown",
   "id": "3bf76120",
   "metadata": {},
   "source": [
    "List Squaring:\n",
    "Given a list of numbers, create a new list containing the squares of each number.\n",
    "\n",
    "Find Maximum:\n",
    "Write a for loop to find the largest number in a list without using built-in functions like max().\n",
    "\n",
    "Count Vowels:\n",
    "Write a for loop to count the number of vowels (a, e, i, o, u) in a given string.\n",
    "\n",
    "Reverse a String:\n",
    "Use a for loop to reverse a string manually (without using slicing)."
   ]
  },
  {
   "cell_type": "code",
   "execution_count": 5,
   "id": "0d05d163",
   "metadata": {},
   "outputs": [
    {
     "name": "stdout",
     "output_type": "stream",
     "text": [
      "[1, 4, 9, 16, 25]\n"
     ]
    }
   ],
   "source": [
    "# Given a list of numbers, create a new list containing the squares of each number.\n",
    "list=[]\n",
    "for num in [1, 2, 3, 4, 5]:\n",
    "    list.append(num**2)\n",
    "print(list)"
   ]
  },
  {
   "cell_type": "code",
   "execution_count": 6,
   "id": "e6d750d3",
   "metadata": {},
   "outputs": [
    {
     "name": "stdout",
     "output_type": "stream",
     "text": [
      "Largest number is: 20\n"
     ]
    }
   ],
   "source": [
    "# Write a for loop to find the largest number in a list without using built-in functions like max().\n",
    "list=[20,19,18,10,5]\n",
    "largest = list[0]\n",
    "for num in list:\n",
    "    if num > largest:\n",
    "        largest = num\n",
    "print(\"Largest number is:\", largest)"
   ]
  },
  {
   "cell_type": "code",
   "execution_count": 7,
   "id": "2db70514",
   "metadata": {},
   "outputs": [
    {
     "name": "stdout",
     "output_type": "stream",
     "text": [
      "Number of vowels in the string is: 3\n"
     ]
    }
   ],
   "source": [
    "# Write a for loop to count the number of vowels (a, e, i, o, u) in a given string.\n",
    "name=\"Waseem\"\n",
    "vowels = \"aeiouAEIOU\"\n",
    "count = 0\n",
    "for char in name:\n",
    "    if char in vowels:\n",
    "        count += 1\n",
    "print(\"Number of vowels in the string is:\", count)"
   ]
  },
  {
   "cell_type": "code",
   "execution_count": 8,
   "id": "4653e4d1",
   "metadata": {},
   "outputs": [
    {
     "name": "stdout",
     "output_type": "stream",
     "text": [
      "Reversed string is: olleH\n"
     ]
    }
   ],
   "source": [
    "# Use a for loop to reverse a string manually (without using slicing).\n",
    "# Example: \"Hello\" → \"olleH\"\n",
    "string = \"Hello\"\n",
    "reversed_string = \"\"\n",
    "for char in string:\n",
    "    reversed_string = char + reversed_string\n",
    "print(\"Reversed string is:\", reversed_string)"
   ]
  },
  {
   "cell_type": "code",
   "execution_count": null,
   "id": "a7806b5b",
   "metadata": {},
   "outputs": [],
   "source": []
  }
 ],
 "metadata": {
  "kernelspec": {
   "display_name": "my_env",
   "language": "python",
   "name": "python3"
  },
  "language_info": {
   "codemirror_mode": {
    "name": "ipython",
    "version": 3
   },
   "file_extension": ".py",
   "mimetype": "text/x-python",
   "name": "python",
   "nbconvert_exporter": "python",
   "pygments_lexer": "ipython3",
   "version": "3.11.4"
  }
 },
 "nbformat": 4,
 "nbformat_minor": 5
}
